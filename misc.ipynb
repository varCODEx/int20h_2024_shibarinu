{
 "cells": [
  {
   "cell_type": "code",
   "execution_count": 1,
   "metadata": {
    "collapsed": true,
    "ExecuteTime": {
     "end_time": "2024-03-03T03:33:03.510059800Z",
     "start_time": "2024-03-03T03:32:52.416252400Z"
    }
   },
   "outputs": [
    {
     "name": "stdout",
     "output_type": "stream",
     "text": [
      "WARNING:tensorflow:From E:\\Projects\\Py\\int20h_2024_shibarinu\\venv\\Lib\\site-packages\\keras\\src\\losses.py:2976: The name tf.losses.sparse_softmax_cross_entropy is deprecated. Please use tf.compat.v1.losses.sparse_softmax_cross_entropy instead.\n",
      "\n"
     ]
    }
   ],
   "source": [
    "import pandas as pd\n",
    "import numpy as np\n",
    "from glob import glob\n",
    "\n",
    "from tqdm import tqdm\n",
    "\n",
    "from sklearn.cluster import SpectralClustering\n",
    "from scipy.spatial.distance import cosine\n",
    "\n",
    "from deepface import DeepFace\n",
    "from utils.visualize_pics import visualize_pics\n",
    "from pathlib import Path"
   ]
  },
  {
   "cell_type": "code",
   "execution_count": 2,
   "outputs": [],
   "source": [
    "pics = glob('./norm_cut_faces/*.jpg')"
   ],
   "metadata": {
    "collapsed": false,
    "ExecuteTime": {
     "end_time": "2024-03-03T03:33:04.370945800Z",
     "start_time": "2024-03-03T03:33:04.323985800Z"
    }
   }
  },
  {
   "cell_type": "code",
   "execution_count": null,
   "outputs": [
    {
     "name": "stderr",
     "output_type": "stream",
     "text": [
      " 27%|██▋       | 2460/9000 [17:21<52:01,  2.09it/s]  "
     ]
    }
   ],
   "source": [
    "embeddings = []\n",
    "for pic in tqdm(pics):\n",
    "    embedding = DeepFace.represent(pic, model_name='Facenet', enforce_detection=False)\n",
    "    embeddings.append(embedding)"
   ],
   "metadata": {
    "collapsed": false,
    "is_executing": true,
    "ExecuteTime": {
     "start_time": "2024-03-03T03:33:06.350299700Z"
    }
   }
  },
  {
   "cell_type": "code",
   "execution_count": null,
   "outputs": [],
   "source": [
    "df = pd.DataFrame({'pics': pics, 'embeddings': embeddings})\n",
    "df['embeddings'] = df['embeddings'].apply(lambda x: x[0]['embedding'])\n",
    "df['embeddings'] = df['embeddings'].apply(lambda x: np.array(x))\n",
    "df['pics'] = df['pics'].apply(lambda x: Path(x).name)\n",
    "df['age'] = df['pics'].apply(lambda x: int(x[-4-4:-4])-int(x[-4-4-7-4:-4-7-4]))\n",
    "df"
   ],
   "metadata": {
    "collapsed": false
   }
  },
  {
   "cell_type": "code",
   "execution_count": null,
   "outputs": [],
   "source": [
    "len(df)"
   ],
   "metadata": {
    "collapsed": false
   }
  },
  {
   "cell_type": "code",
   "execution_count": null,
   "outputs": [],
   "source": [
    "from sklearn.metrics.pairwise import pairwise_kernels\n",
    "X=pairwise_kernels(df['embeddings'].tolist(), metric='cosine')\n",
    "X=X-min(X.flatten())"
   ],
   "metadata": {
    "collapsed": false
   }
  },
  {
   "cell_type": "code",
   "execution_count": null,
   "outputs": [],
   "source": [
    "model = SpectralClustering(affinity=\"precomputed\", n_clusters=16,\n",
    "                           assign_labels='cluster_qr').fit(X=X)"
   ],
   "metadata": {
    "collapsed": false
   }
  },
  {
   "cell_type": "code",
   "execution_count": null,
   "outputs": [],
   "source": [
    "pd.Series(model.labels_).value_counts().sort_index()"
   ],
   "metadata": {
    "collapsed": false
   }
  },
  {
   "cell_type": "code",
   "execution_count": null,
   "outputs": [],
   "source": [
    "df['cluster'] = model.labels_"
   ],
   "metadata": {
    "collapsed": false
   }
  },
  {
   "cell_type": "code",
   "execution_count": null,
   "outputs": [],
   "source": [
    "cl = df[df['cluster']==8]\n",
    "avg = cl['embeddings'].mean()\n",
    "cl['dist'] = cl['embeddings'].apply(lambda x: cosine(x, avg))\n",
    "print(cl['dist'].min())\n",
    "visualize_pics(cl.sort_values(by='dist', ascending=True)['pics'], source='./wiki_crop_all/', n=6)"
   ],
   "metadata": {
    "collapsed": false
   }
  },
  {
   "cell_type": "code",
   "execution_count": null,
   "outputs": [],
   "source": [],
   "metadata": {
    "collapsed": false
   }
  },
  {
   "cell_type": "code",
   "execution_count": null,
   "outputs": [],
   "source": [
    "df.groupby(by='cluster')['age'].describe()"
   ],
   "metadata": {
    "collapsed": false
   }
  },
  {
   "cell_type": "code",
   "execution_count": null,
   "outputs": [],
   "source": [],
   "metadata": {
    "collapsed": false
   }
  }
 ],
 "metadata": {
  "kernelspec": {
   "display_name": "Python 3",
   "language": "python",
   "name": "python3"
  },
  "language_info": {
   "codemirror_mode": {
    "name": "ipython",
    "version": 2
   },
   "file_extension": ".py",
   "mimetype": "text/x-python",
   "name": "python",
   "nbconvert_exporter": "python",
   "pygments_lexer": "ipython2",
   "version": "2.7.6"
  }
 },
 "nbformat": 4,
 "nbformat_minor": 0
}
