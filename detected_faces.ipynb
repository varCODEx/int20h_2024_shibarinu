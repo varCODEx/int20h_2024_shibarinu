{
 "cells": [
  {
   "cell_type": "code",
   "execution_count": 32,
   "metadata": {
    "collapsed": true,
    "ExecuteTime": {
     "end_time": "2024-03-02T17:03:27.847207100Z",
     "start_time": "2024-03-02T17:03:27.817208900Z"
    }
   },
   "outputs": [],
   "source": [
    "import pandas as pd"
   ]
  },
  {
   "cell_type": "code",
   "execution_count": 40,
   "outputs": [],
   "source": [
    "df = pd.read_parquet('detected_faces.parquet')"
   ],
   "metadata": {
    "collapsed": false,
    "ExecuteTime": {
     "end_time": "2024-03-02T17:04:08.953060100Z",
     "start_time": "2024-03-02T17:04:08.925425500Z"
    }
   }
  },
  {
   "cell_type": "code",
   "execution_count": 34,
   "outputs": [],
   "source": [
    "df['cords'] = df['cords'].apply(lambda x: eval(x))"
   ],
   "metadata": {
    "collapsed": false,
    "ExecuteTime": {
     "end_time": "2024-03-02T17:03:28.358430300Z",
     "start_time": "2024-03-02T17:03:27.939029Z"
    }
   }
  },
  {
   "cell_type": "code",
   "execution_count": 35,
   "outputs": [
    {
     "name": "stdout",
     "output_type": "stream",
     "text": [
      "<class 'pandas.core.frame.DataFrame'>\n",
      "RangeIndex: 38927 entries, 0 to 38926\n",
      "Data columns (total 2 columns):\n",
      " #   Column      Non-Null Count  Dtype \n",
      "---  ------      --------------  ----- \n",
      " 0   image_name  38927 non-null  object\n",
      " 1   cords       38927 non-null  object\n",
      "dtypes: object(2)\n",
      "memory usage: 608.4+ KB\n"
     ]
    }
   ],
   "source": [
    "df.info()"
   ],
   "metadata": {
    "collapsed": false,
    "ExecuteTime": {
     "end_time": "2024-03-02T17:03:28.361428200Z",
     "start_time": "2024-03-02T17:03:28.358430300Z"
    }
   }
  },
  {
   "cell_type": "code",
   "execution_count": 36,
   "outputs": [],
   "source": [
    "df['len'] = df['cords'].apply(lambda x: len(x))"
   ],
   "metadata": {
    "collapsed": false,
    "ExecuteTime": {
     "end_time": "2024-03-02T17:03:28.377326Z",
     "start_time": "2024-03-02T17:03:28.359428900Z"
    }
   }
  },
  {
   "cell_type": "code",
   "execution_count": 37,
   "outputs": [
    {
     "data": {
      "text/plain": "len\n4    38927\nName: count, dtype: int64"
     },
     "execution_count": 37,
     "metadata": {},
     "output_type": "execute_result"
    }
   ],
   "source": [
    "df['len'].value_counts().sort_index()"
   ],
   "metadata": {
    "collapsed": false,
    "ExecuteTime": {
     "end_time": "2024-03-02T17:03:28.449270300Z",
     "start_time": "2024-03-02T17:03:28.380333Z"
    }
   }
  },
  {
   "cell_type": "code",
   "execution_count": 38,
   "outputs": [
    {
     "data": {
      "text/plain": "                         image_name                cords  len\n0      37757795_1954-05-04_1980.jpg  (112, 62, 230, 230)    4\n1      27489779_1926-08-27_1978.jpg     (25, 26, 68, 68)    4\n2      34556536_1989-11-10_2011.jpg   (79, 55, 113, 113)    4\n3       2429090_1962-09-01_1986.jpg   (48, 30, 141, 141)    4\n4      38499858_1960-09-06_2002.jpg   (75, 53, 185, 185)    4\n...                             ...                  ...  ...\n38922   6851487_1949-01-01_2011.jpg     (19, 10, 52, 52)    4\n38923   6851487_1949-01-01_2011.jpg   (61, 38, 135, 135)    4\n38924  27208938_1965-11-13_2011.jpg   (85, 55, 193, 193)    4\n38925  19708224_1986-03-05_2015.jpg   (85, 84, 282, 282)    4\n38926  24196494_1991-02-04_2010.jpg     (25, 15, 57, 57)    4\n\n[38927 rows x 3 columns]",
      "text/html": "<div>\n<style scoped>\n    .dataframe tbody tr th:only-of-type {\n        vertical-align: middle;\n    }\n\n    .dataframe tbody tr th {\n        vertical-align: top;\n    }\n\n    .dataframe thead th {\n        text-align: right;\n    }\n</style>\n<table border=\"1\" class=\"dataframe\">\n  <thead>\n    <tr style=\"text-align: right;\">\n      <th></th>\n      <th>image_name</th>\n      <th>cords</th>\n      <th>len</th>\n    </tr>\n  </thead>\n  <tbody>\n    <tr>\n      <th>0</th>\n      <td>37757795_1954-05-04_1980.jpg</td>\n      <td>(112, 62, 230, 230)</td>\n      <td>4</td>\n    </tr>\n    <tr>\n      <th>1</th>\n      <td>27489779_1926-08-27_1978.jpg</td>\n      <td>(25, 26, 68, 68)</td>\n      <td>4</td>\n    </tr>\n    <tr>\n      <th>2</th>\n      <td>34556536_1989-11-10_2011.jpg</td>\n      <td>(79, 55, 113, 113)</td>\n      <td>4</td>\n    </tr>\n    <tr>\n      <th>3</th>\n      <td>2429090_1962-09-01_1986.jpg</td>\n      <td>(48, 30, 141, 141)</td>\n      <td>4</td>\n    </tr>\n    <tr>\n      <th>4</th>\n      <td>38499858_1960-09-06_2002.jpg</td>\n      <td>(75, 53, 185, 185)</td>\n      <td>4</td>\n    </tr>\n    <tr>\n      <th>...</th>\n      <td>...</td>\n      <td>...</td>\n      <td>...</td>\n    </tr>\n    <tr>\n      <th>38922</th>\n      <td>6851487_1949-01-01_2011.jpg</td>\n      <td>(19, 10, 52, 52)</td>\n      <td>4</td>\n    </tr>\n    <tr>\n      <th>38923</th>\n      <td>6851487_1949-01-01_2011.jpg</td>\n      <td>(61, 38, 135, 135)</td>\n      <td>4</td>\n    </tr>\n    <tr>\n      <th>38924</th>\n      <td>27208938_1965-11-13_2011.jpg</td>\n      <td>(85, 55, 193, 193)</td>\n      <td>4</td>\n    </tr>\n    <tr>\n      <th>38925</th>\n      <td>19708224_1986-03-05_2015.jpg</td>\n      <td>(85, 84, 282, 282)</td>\n      <td>4</td>\n    </tr>\n    <tr>\n      <th>38926</th>\n      <td>24196494_1991-02-04_2010.jpg</td>\n      <td>(25, 15, 57, 57)</td>\n      <td>4</td>\n    </tr>\n  </tbody>\n</table>\n<p>38927 rows × 3 columns</p>\n</div>"
     },
     "execution_count": 38,
     "metadata": {},
     "output_type": "execute_result"
    }
   ],
   "source": [
    "df"
   ],
   "metadata": {
    "collapsed": false,
    "ExecuteTime": {
     "end_time": "2024-03-02T17:03:28.466263900Z",
     "start_time": "2024-03-02T17:03:28.390873600Z"
    }
   }
  },
  {
   "cell_type": "code",
   "execution_count": 43,
   "outputs": [],
   "source": [
    "df[['image_name', 'cords']].to_parquet('detected_faces.parquet')"
   ],
   "metadata": {
    "collapsed": false,
    "ExecuteTime": {
     "end_time": "2024-03-02T17:04:42.723144800Z",
     "start_time": "2024-03-02T17:04:42.679152300Z"
    }
   }
  },
  {
   "cell_type": "code",
   "execution_count": null,
   "outputs": [],
   "source": [],
   "metadata": {
    "collapsed": false
   }
  }
 ],
 "metadata": {
  "kernelspec": {
   "display_name": "Python 3",
   "language": "python",
   "name": "python3"
  },
  "language_info": {
   "codemirror_mode": {
    "name": "ipython",
    "version": 2
   },
   "file_extension": ".py",
   "mimetype": "text/x-python",
   "name": "python",
   "nbconvert_exporter": "python",
   "pygments_lexer": "ipython2",
   "version": "2.7.6"
  }
 },
 "nbformat": 4,
 "nbformat_minor": 0
}
