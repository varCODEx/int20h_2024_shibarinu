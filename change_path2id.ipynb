{
 "cells": [
  {
   "cell_type": "code",
   "execution_count": 1,
   "metadata": {},
   "outputs": [],
   "source": [
    "import cv2\n",
    "import mediapipe\n",
    "import numpy as np\n",
    "import pandas as pd\n",
    "import glob\n",
    "import os\n",
    "import tqdm\n",
    "import matplotlib.pyplot as plt"
   ]
  },
  {
   "cell_type": "code",
   "execution_count": 2,
   "metadata": {},
   "outputs": [
    {
     "data": {
      "text/html": [
       "<div>\n",
       "<style scoped>\n",
       "    .dataframe tbody tr th:only-of-type {\n",
       "        vertical-align: middle;\n",
       "    }\n",
       "\n",
       "    .dataframe tbody tr th {\n",
       "        vertical-align: top;\n",
       "    }\n",
       "\n",
       "    .dataframe thead th {\n",
       "        text-align: right;\n",
       "    }\n",
       "</style>\n",
       "<table border=\"1\" class=\"dataframe\">\n",
       "  <thead>\n",
       "    <tr style=\"text-align: right;\">\n",
       "      <th></th>\n",
       "      <th>img_id</th>\n",
       "      <th>difference</th>\n",
       "    </tr>\n",
       "  </thead>\n",
       "  <tbody>\n",
       "    <tr>\n",
       "      <th>0</th>\n",
       "      <td>wiki_crop\\74\\214874_1961-09-13_2004.jpg</td>\n",
       "      <td>0.680429</td>\n",
       "    </tr>\n",
       "    <tr>\n",
       "      <th>1</th>\n",
       "      <td>wiki_crop\\43\\22533743_1977-11-03_2013.jpg</td>\n",
       "      <td>0.828591</td>\n",
       "    </tr>\n",
       "    <tr>\n",
       "      <th>2</th>\n",
       "      <td>wiki_crop\\26\\31754426_1940-11-23_1963.jpg</td>\n",
       "      <td>0.829659</td>\n",
       "    </tr>\n",
       "    <tr>\n",
       "      <th>3</th>\n",
       "      <td>wiki_crop\\46\\16666946_1924-01-05_1940.jpg</td>\n",
       "      <td>0.842801</td>\n",
       "    </tr>\n",
       "    <tr>\n",
       "      <th>4</th>\n",
       "      <td>wiki_crop\\51\\45602651_1979-03-07_2015.jpg</td>\n",
       "      <td>0.844103</td>\n",
       "    </tr>\n",
       "    <tr>\n",
       "      <th>...</th>\n",
       "      <td>...</td>\n",
       "      <td>...</td>\n",
       "    </tr>\n",
       "    <tr>\n",
       "      <th>42898</th>\n",
       "      <td>wiki_crop\\60\\38379760_1990-05-14_2013.jpg</td>\n",
       "      <td>10.308511</td>\n",
       "    </tr>\n",
       "    <tr>\n",
       "      <th>42899</th>\n",
       "      <td>wiki_crop\\29\\7877629_1990-02-24_2007.jpg</td>\n",
       "      <td>10.437838</td>\n",
       "    </tr>\n",
       "    <tr>\n",
       "      <th>42900</th>\n",
       "      <td>wiki_crop\\13\\966013_1934-08-23_2001.jpg</td>\n",
       "      <td>10.442814</td>\n",
       "    </tr>\n",
       "    <tr>\n",
       "      <th>42901</th>\n",
       "      <td>wiki_crop\\61\\382561_1961-10-09_2009.jpg</td>\n",
       "      <td>10.782366</td>\n",
       "    </tr>\n",
       "    <tr>\n",
       "      <th>42902</th>\n",
       "      <td>wiki_crop\\29\\33368829_1946-09-15_2015.jpg</td>\n",
       "      <td>11.206103</td>\n",
       "    </tr>\n",
       "  </tbody>\n",
       "</table>\n",
       "<p>42903 rows × 2 columns</p>\n",
       "</div>"
      ],
      "text/plain": [
       "                                          img_id  difference\n",
       "0        wiki_crop\\74\\214874_1961-09-13_2004.jpg    0.680429\n",
       "1      wiki_crop\\43\\22533743_1977-11-03_2013.jpg    0.828591\n",
       "2      wiki_crop\\26\\31754426_1940-11-23_1963.jpg    0.829659\n",
       "3      wiki_crop\\46\\16666946_1924-01-05_1940.jpg    0.842801\n",
       "4      wiki_crop\\51\\45602651_1979-03-07_2015.jpg    0.844103\n",
       "...                                          ...         ...\n",
       "42898  wiki_crop\\60\\38379760_1990-05-14_2013.jpg   10.308511\n",
       "42899   wiki_crop\\29\\7877629_1990-02-24_2007.jpg   10.437838\n",
       "42900    wiki_crop\\13\\966013_1934-08-23_2001.jpg   10.442814\n",
       "42901    wiki_crop\\61\\382561_1961-10-09_2009.jpg   10.782366\n",
       "42902  wiki_crop\\29\\33368829_1946-09-15_2015.jpg   11.206103\n",
       "\n",
       "[42903 rows x 2 columns]"
      ]
     },
     "execution_count": 2,
     "metadata": {},
     "output_type": "execute_result"
    }
   ],
   "source": [
    "differences = pd.read_csv('img_enface_score.csv')\n",
    "differences"
   ]
  },
  {
   "cell_type": "code",
   "execution_count": 3,
   "metadata": {},
   "outputs": [],
   "source": [
    "import os\n",
    "\n",
    "differences['img_id'] = differences['img_id'].apply(lambda x: os.path.basename(x))\n",
    "new_filename = 'differences_with_ids.csv'\n",
    "differences.to_csv(new_filename, index=False)\n"
   ]
  }
 ],
 "metadata": {
  "kernelspec": {
   "display_name": "Python 3",
   "language": "python",
   "name": "python3"
  },
  "language_info": {
   "codemirror_mode": {
    "name": "ipython",
    "version": 3
   },
   "file_extension": ".py",
   "mimetype": "text/x-python",
   "name": "python",
   "nbconvert_exporter": "python",
   "pygments_lexer": "ipython3",
   "version": "3.8.10"
  }
 },
 "nbformat": 4,
 "nbformat_minor": 2
}
